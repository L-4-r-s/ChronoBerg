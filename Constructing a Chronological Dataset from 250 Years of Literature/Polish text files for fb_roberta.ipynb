{
 "cells": [
  {
   "cell_type": "code",
   "execution_count": 1,
   "id": "59eb194d",
   "metadata": {},
   "outputs": [],
   "source": [
    "import os\n",
    "import re\n",
    "\n",
    "# Define the input and output folder paths\n",
    "input_folder = TODO\n",
    "output_folder = TODO\n",
    "\n",
    "# Create the output folder if it doesn't exist\n",
    "os.makedirs(output_folder, exist_ok=True)\n",
    "\n",
    "# Function to normalize text\n",
    "def normalize_text(text):\n",
    "    # Replace newlines with whitespace\n",
    "    text = text.replace('\\n', ' ')\n",
    "    # Remove all kinds of quotation marks\n",
    "    text = re.sub(r'[\\'\\\"]', '', text)\n",
    "    # Reduce all consecutive whitespace to a single whitespace\n",
    "    text = re.sub(r'\\s+', ' ', text)\n",
    "    return text\n",
    "\n",
    "# Iterate through all text files in the input folder\n",
    "for filename in os.listdir(input_folder):\n",
    "    if filename.endswith('.txt'):\n",
    "        year = filename[:-4]  # Extract the year from the filename\n",
    "        input_file_path = os.path.join(input_folder, filename)\n",
    "        output_file_path = os.path.join(output_folder, filename)\n",
    "\n",
    "        # Read the content of the file\n",
    "        with open(input_file_path, 'r', encoding='utf-8') as file:\n",
    "            content = file.read()\n",
    "\n",
    "        # Normalize the text\n",
    "        normalized_content = normalize_text(content)\n",
    "\n",
    "        # Save the normalized text to the output folder\n",
    "        with open(output_file_path, 'w', encoding='utf-8') as file:\n",
    "            file.write(normalized_content)\n"
   ]
  },
  {
   "cell_type": "code",
   "execution_count": null,
   "id": "96949384",
   "metadata": {},
   "outputs": [],
   "source": []
  }
 ],
 "metadata": {
  "kernelspec": {
   "display_name": "Python (pysentimiento_env)",
   "language": "python",
   "name": "pysentimiento_env"
  },
  "language_info": {
   "codemirror_mode": {
    "name": "ipython",
    "version": 3
   },
   "file_extension": ".py",
   "mimetype": "text/x-python",
   "name": "python",
   "nbconvert_exporter": "python",
   "pygments_lexer": "ipython3",
   "version": "3.10.12"
  }
 },
 "nbformat": 4,
 "nbformat_minor": 5
}
