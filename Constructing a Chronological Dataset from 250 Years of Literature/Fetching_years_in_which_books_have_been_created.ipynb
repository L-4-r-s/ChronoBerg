{
  "cells": [
    {
      "cell_type": "markdown",
      "metadata": {
        "id": "lxNdqcGmS9Z5"
      },
      "source": [
        "**Fetch PG catalog**"
      ]
    },
    {
      "cell_type": "code",
      "execution_count": null,
      "metadata": {
        "colab": {
          "base_uri": "https://localhost:8080/"
        },
        "id": "dOp1JZGxTDPl",
        "outputId": "4a0c4a0f-63f8-4aab-94b5-2a47af319d8f"
      },
      "outputs": [
        {
          "output_type": "stream",
          "name": "stdout",
          "text": [
            "Mounted at /content/drive\n"
          ]
        }
      ],
      "source": [
        "# If Google colab is being used\n",
        "\n",
        "#from google.colab import drive\n",
        "#drive.mount('/content/drive')\n",
        "\n",
        "from pandas import read_csv\n",
        "\n",
        "import numpy as np\n",
        "import re\n",
        "from datetime import datetime\n",
        "\n",
        "\n",
        "# SETTINGS\n",
        "pg_catalogue_loc = None\n",
        "target_loc = None"
      ]
    },
    {
      "cell_type": "code",
      "execution_count": null,
      "metadata": {
        "colab": {
          "base_uri": "https://localhost:8080/"
        },
        "id": "kpAdQjaOTLS6",
        "outputId": "91da0d3c-f88b-4463-ba30-b2c8fe5c4ccd"
      },
      "outputs": [
        {
          "output_type": "stream",
          "name": "stdout",
          "text": [
            "73570\n"
          ]
        }
      ],
      "source": [
        "\n",
        "gutenberg_catalog = read_csv(pg_catalogue_loc, dtype=str)\n",
        "print(len(gutenberg_catalog))\n",
        "\n",
        "def extend_catalog():\n",
        "  gutenberg_catalog[\"year_google_api\"] = np.nan\n",
        "  gutenberg_catalog[\"year_google_html\"] = np.nan\n",
        "  gutenberg_catalog[\"year_loc\"] = np.nan\n",
        "  gutenberg_catalog[\"year_open_library\"] = np.nan\n",
        "  gutenberg_catalog[\"year_wikipedia\"] = np.nan\n",
        "  gutenberg_catalog[\"year_title\"] = np.nan\n",
        "\n",
        "#extend_catalog()\n"
      ]
    },
    {
      "cell_type": "markdown",
      "metadata": {
        "id": "QL6QbKVEziCb"
      },
      "source": [
        "Create some gold labels for sanity checks:"
      ]
    },
    {
      "cell_type": "code",
      "execution_count": null,
      "metadata": {
        "colab": {
          "base_uri": "https://localhost:8080/"
        },
        "id": "-QJheNUkzg_N",
        "outputId": "7520876e-8eda-41a1-81bc-70076ab0fcf5"
      },
      "outputs": [
        {
          "output_type": "stream",
          "name": "stdout",
          "text": [
            "1: The Declaration of Independence of the United States of America \n",
            "2:The Declaration of Independence of the United States of America\n",
            "1: The King James Version of the Bible \n",
            "2:The King James Version of the Bible\n",
            "1: Alice's Adventures in Wonderland \n",
            "2:Alice's Adventures in Wonderland\n",
            "1: The Book of Mormon: An Account Written by the Hand of Mormon, Upon Plates Taken from the Plates of Nephi \n",
            "2:The Book of Mormon: An Account Written by the Hand of Mormon, Upon Plates Taken from the Plates of Nephi\n",
            "1: The Marvelous Land of Oz \n",
            "2:The Marvelous Land of Oz\n",
            "1: A Princess of Mars \n",
            "2:A Princess of Mars\n",
            "1: Adventures of Huckleberry Finn \n",
            "2:Adventures of Huckleberry Finn\n",
            "1: Ivanhoe: A Romance \n",
            "2:Ivanhoe: A Romance\n",
            "1: Frankenstein; Or, The Modern Prometheus \n",
            "2:Frankenstein; Or, The Modern Prometheus\n",
            "1: Alexander's Bridge \n",
            "2:Alexander's Bridge\n"
          ]
        }
      ],
      "source": [
        "ids = [0, 9, 10, 16, 53, 61, 75, 81, 83, 93]\n",
        "ref_years = [\"1776\", \"1611\", \"1865\", \"1830\", \"1904\", \"1912\", \"1884\", \"1819\", \"1818\", \"1912\"]\n",
        "titles = [\"The Declaration of Independence of the United States of America\",\n",
        "          \"The King James Version of the Bible\",\n",
        "          \"Alice's Adventures in Wonderland\",\n",
        "          \"The Book of Mormon: An Account Written by the Hand of Mormon, Upon Plates Taken from the Plates of Nephi\",\n",
        "          \"The Marvelous Land of Oz\",\n",
        "          \"A Princess of Mars\",\n",
        "          \"Adventures of Huckleberry Finn\",\n",
        "          \"Ivanhoe: A Romance\",\n",
        "          \"Frankenstein; Or, The Modern Prometheus\",\n",
        "          \"Alexander's Bridge\"\n",
        "          ]\n",
        "\n",
        "# checking for correct mapping\n",
        "for i in range(len(ids)):\n",
        "  print(f\"1: {titles[i]} \\n2:{gutenberg_catalog.title[ids[i]]}\")"
      ]
    },
    {
      "cell_type": "markdown",
      "metadata": {
        "id": "hELrROXE9cfD"
      },
      "source": [
        "\n",
        "\n",
        "---\n",
        "\n",
        "\n",
        "**Google Books API: (not used)**\n",
        "\n",
        "Metadata: https://support.google.com/books/partner/answer/3237055?hl=en\n",
        "\n",
        "Query Design: https://developers.google.com/books/docs/v1/using?hl=de"
      ]
    },
    {
      "cell_type": "code",
      "execution_count": null,
      "metadata": {
        "id": "T0_ITx--6fWa"
      },
      "outputs": [],
      "source": [
        "from urllib.request import urlopen\n",
        "import json\n",
        "import dateutil.parser as parser\n",
        "import datetime as dt\n",
        "import pandas as pd\n",
        "from statistics import mode"
      ]
    },
    {
      "cell_type": "code",
      "source": [
        "# Test mode behavior in case of ties\n",
        "list1 = [2,3,4,5,6,2,3]\n",
        "print(mode(list1))"
      ],
      "metadata": {
        "colab": {
          "base_uri": "https://localhost:8080/"
        },
        "id": "JNmq82fss7s_",
        "outputId": "1730239e-df87-4ed2-ab51-25f95c8608d3"
      },
      "execution_count": null,
      "outputs": [
        {
          "output_type": "stream",
          "name": "stdout",
          "text": [
            "2\n"
          ]
        }
      ]
    },
    {
      "cell_type": "code",
      "execution_count": null,
      "metadata": {
        "id": "odZ89Wq6QTEn"
      },
      "outputs": [],
      "source": [
        "def getYearFromGoogleBooks(title, authors, birth = np.nan, death = np.nan):\n",
        "  lowest_year = float('inf')\n",
        "\n",
        "  # remove whitestrings from urls\n",
        "  title = title.replace(\" \",\"%20\")\n",
        "  if not pd.isna(authors):\n",
        "    authors = authors.replace(\" \",\"%20\")\n",
        "\n",
        "  # build google books API query URL\n",
        "  queries = []\n",
        "  if not pd.isna(authors):\n",
        "    queries.append(f\"https://www.googleapis.com/books/v1/volumes?q={title}%20{authors}\")\n",
        "    queries.append(f\"https://www.googleapis.com/books/v1/volumes?q=intitle:{title}+inauthor:{authors}\")\n",
        "  queries.append(f\"https://www.googleapis.com/books/v1/volumes?q=intitle:{title}\")\n",
        "  # send a request and get a JSON response\n",
        "  for query in queries:\n",
        "    resp = urlopen(query)\n",
        "\n",
        "    # parse JSON into Python as a dictionary\n",
        "    results = json.load(resp)\n",
        "    items = results[\"items\"]\n",
        "    for book in items:\n",
        "      if \"publishedDate\" in book[\"volumeInfo\"].keys():\n",
        "        year = parser.parse(book[\"volumeInfo\"][\"publishedDate\"]).year\n",
        "        if pd.isna(birth) or str(birth) < str(year) and (pd.isna(death) or str(year) <= str(death)):\n",
        "          lowest_year = year if year < lowest_year else lowest_year\n",
        "\n",
        "  # check if a possible publication year has been found\n",
        "  return lowest_year if lowest_year != float('inf') else np.nan"
      ]
    },
    {
      "cell_type": "code",
      "execution_count": null,
      "metadata": {
        "colab": {
          "base_uri": "https://localhost:8080/"
        },
        "id": "CBkvRZGfkBUL",
        "outputId": "f063142b-7140-42b7-cbb9-641b3f1446c0"
      },
      "outputs": [
        {
          "output_type": "stream",
          "name": "stdout",
          "text": [
            "The Declaration of Independence of the United States of America\n",
            "nan\n",
            "The King James Version of the Bible\n",
            "2004\n",
            "Alice's Adventures in Wonderland\n",
            "1869\n",
            "The Book of Mormon: An Account Written by the Hand of Mormon, Upon Plates Taken from the Plates of Nephi\n",
            "nan\n",
            "The Marvelous Land of Oz\n",
            "1904\n",
            "A Princess of Mars\n",
            "1917\n",
            "Adventures of Huckleberry Finn\n",
            "nan\n",
            "Ivanhoe: A Romance\n",
            "1820\n",
            "Frankenstein; Or, The Modern Prometheus\n",
            "nan\n",
            "Alexander's Bridge\n",
            "1912\n",
            "['1776', '1611', '1865', '1830', '1904', '1912', '1884', '1819', '1818', '1912']\n"
          ]
        }
      ],
      "source": [
        "for authors, title, birth, death in zip(gutenberg_catalog.authors[ids], gutenberg_catalog.title[ids], gutenberg_catalog.first_author_birth_year[ids], gutenberg_catalog.first_author_death_year[ids]):\n",
        "  print(title)\n",
        "  print(getYearFromGoogleBooks(title, authors, birth, death))\n",
        "\n",
        "print(ref_years)"
      ]
    },
    {
      "cell_type": "code",
      "execution_count": null,
      "metadata": {
        "colab": {
          "base_uri": "https://localhost:8080/"
        },
        "id": "gQ1QhwnJ6YWn",
        "outputId": "3914df76-f295-4503-aa9b-8d80e1b2f516"
      },
      "outputs": [
        {
          "data": {
            "text/plain": [
              "1834"
            ]
          },
          "execution_count": 42,
          "metadata": {},
          "output_type": "execute_result"
        }
      ],
      "source": [
        "getYearFromGoogleBooks(\"The Declaration of Independence of the United States of America\", \"Jefferson, Thomas\")"
      ]
    },
    {
      "cell_type": "markdown",
      "metadata": {
        "id": "8UrRTFCATlNa"
      },
      "source": [
        "\n",
        "\n",
        "---\n",
        "\n",
        "**Scrape year from html of google search result (not used)**\n",
        "\n",
        "Google will block requests after a few hundred\n",
        "\n",
        "Custom Search Engine: https://programmablesearchengine.google.com/controlpanel/overview?cx=f5ae8ea749d7f40c2\n",
        "\n",
        "Search Result format: https://developers.google.com/custom-search/v1/reference/rest/v1/Search#result\n",
        "\n"
      ]
    },
    {
      "cell_type": "code",
      "execution_count": null,
      "metadata": {
        "id": "KUtS7fH-M0nw"
      },
      "outputs": [],
      "source": [
        "from googleapiclient.discovery import build\n",
        "def google_search(query, api_key, cse_id):\n",
        "    service = build(\"customsearch\", \"v1\", developerKey=api_key)\n",
        "    res = service.cse().list(q=query, cx=cse_id).execute()\n",
        "    return res\n",
        "\n",
        "def google_search_year(title, author, author_birth, author_death, account = 0):\n",
        "  api_keys = [TODO]\n",
        "  cse_ids = [TODO]\n",
        "\n",
        "  if pd.isna(author):\n",
        "    query = f'In which year was \"{title}\" first published?'\n",
        "  else:\n",
        "    query = f'In which year was the book \"{title}\" written by {author} first published?'\n",
        "  result = google_search(query, api_keys[account], cse_ids[account])\n",
        "\n",
        "  pattern = r'(published|publication|created|wrote|written|release|released)[^\\d]*(\\d{4})'\n",
        "  #pattern = r'[^\\d]*(\\d{4})'\n",
        "  years = []\n",
        "  # consists of the first 10 search results\n",
        "  for item in result[\"items\"]:\n",
        "    text = item[\"snippet\"]\n",
        "    matches = re.findall(pattern, text, re.IGNORECASE)\n",
        "    if matches:\n",
        "        #print(f\"{matches} \\n {line}\")\n",
        "        if pd.isna(author_birth):\n",
        "          years.extend([i[1] for i in matches])\n",
        "        else:\n",
        "          years.extend([i[1] for i in matches if i[1]> str(author_birth) and i[1]<= str(author_death)])\n",
        "  # mode returns the most frequently occuring element in a list\n",
        "  return mode(years) if len(years)>0 else None\n",
        "\n",
        "\n",
        "\n"
      ]
    },
    {
      "cell_type": "code",
      "execution_count": null,
      "metadata": {
        "colab": {
          "base_uri": "https://localhost:8080/"
        },
        "id": "l-t9osF_gfYh",
        "outputId": "55bc6c00-a44a-461c-c9cb-cdb40293b72a"
      },
      "outputs": [
        {
          "output_type": "stream",
          "name": "stdout",
          "text": [
            "1776\n",
            "1611\n",
            "1865\n",
            "1830\n",
            "1900\n",
            "1912\n",
            "1884\n",
            "1819\n",
            "1818\n",
            "1912\n",
            "['1776', '1611', '1865', '1830', '1904', '1912', '1884', '1819', '1818', '1912']\n"
          ]
        }
      ],
      "source": [
        "for authors, title, birth, death in zip(gutenberg_catalog.authors[ids], gutenberg_catalog.title[ids], gutenberg_catalog.first_author_birth_year[ids], gutenberg_catalog.first_author_death_year[ids]):\n",
        "  print(google_search_year(title, authors, birth, death, 1))\n",
        "\n",
        "print(ref_years)"
      ]
    },
    {
      "cell_type": "code",
      "execution_count": null,
      "metadata": {
        "id": "qJvTa3Kz_Hoz"
      },
      "outputs": [],
      "source": [
        "import pandas as pd\n",
        "\n",
        "import requests\n",
        "from bs4 import BeautifulSoup\n",
        "import re\n",
        "import math\n",
        "\n",
        "headers = {'User-Agent': 'Mozilla/5.0 (Windows NT 10.0; Win64; x64) AppleWebKit/537.36 (KHTML, like Gecko) Chrome/124.0.0.0 Safari/537.36 Edg/124.0.0.0'}"
      ]
    },
    {
      "cell_type": "code",
      "execution_count": null,
      "metadata": {
        "id": "JjuCEzukTknb"
      },
      "outputs": [],
      "source": [
        "def build_query(title, author, mode = 'published'):\n",
        "\n",
        "  query = 'https://www.google.de/search?q='\n",
        "  if mode == 'published':\n",
        "    if pd.isna(author):\n",
        "      query += f'In which year was \"{title}\" first published?'\n",
        "    else:\n",
        "      query += f'In which year was the book \"{title}\" written by {author} first published?'\n",
        "  elif mode == 'written':\n",
        "    if pd.isna(author):\n",
        "      query += f'In which year was \"{title}\" originally written?'\n",
        "    else:\n",
        "      query += f'When did {author} write the book \"{title}\"?'\n",
        "\n",
        "  # remove whitestrings and quotation marks from urls\n",
        "  query = query.replace(' ','%20')\n",
        "  query = query.replace('\"','%22')\n",
        "  return query"
      ]
    },
    {
      "cell_type": "code",
      "execution_count": null,
      "metadata": {
        "id": "oUhi8-ruEZ0R"
      },
      "outputs": [],
      "source": [
        "def fetch_year_from_google_search(query):\n",
        "  #print(query)\n",
        "  html = requests.get(query, headers=headers).text\n",
        "  #print(html)\n",
        "  soup = BeautifulSoup(html, 'lxml')\n",
        "  extracts = []\n",
        "  extracts.append(soup.find(\"div\", class_=\"Z0LcW\"))\n",
        "  extracts.append(soup.find(\"b\"))\n",
        "  #print(f\"1: {extracts[1]}\")\n",
        "  if str(extracts[1]) == \"<b>About this page</b>\":\n",
        "    print(soup)\n",
        "    raise Exception(\"You have been temporarily blocked by google\")\n",
        "  min_year = None\n",
        "  for tag in extracts:\n",
        "    if tag != None:\n",
        "      year = re.search(\"\\d{4}\", str(tag))\n",
        "      if year != None:\n",
        "       year = year.group()\n",
        "       min_year = year if min_year == None or year < min_year else min_year\n",
        "  #print(f\"2: {min_year}\")\n",
        "  return min_year"
      ]
    },
    {
      "cell_type": "code",
      "execution_count": null,
      "metadata": {
        "colab": {
          "base_uri": "https://localhost:8080/",
          "height": 1000
        },
        "id": "nq_1BzkN859_",
        "outputId": "08ef2343-6223-4097-ae72-1f05bc0d860d"
      },
      "outputs": [
        {
          "output_type": "stream",
          "name": "stdout",
          "text": [
            "1776\n",
            "None\n",
            "None\n",
            "None\n",
            "1787\n",
            "None\n",
            "None\n",
            "None\n",
            "None\n",
            "1611\n",
            "1865\n",
            "1871\n",
            "1876\n",
            "None\n",
            "1851\n",
            "1902\n",
            "None\n",
            "None\n",
            "1855\n",
            "1608\n",
            "1871\n",
            "1852\n",
            "1845\n",
            "1913\n",
            "None\n",
            "1608\n",
            "1874\n",
            "None\n",
            "None\n",
            "1611\n",
            "None\n",
            "1915\n",
            "1850\n",
            "1992\n",
            "1895\n",
            "1898\n",
            "None\n",
            "None\n",
            "1987\n",
            "None\n",
            "None\n",
            "1886\n",
            "1886\n",
            "1915\n",
            "1908\n",
            "1843\n",
            "1909\n",
            "None\n",
            "None\n",
            "2017\n",
            "1915\n",
            "None\n",
            "None\n",
            "1904\n",
            "1900\n",
            "None\n",
            "None\n",
            "1671\n",
            "1637\n",
            "1905\n",
            "None\n",
            "1912\n",
            "None\n",
            "1913\n",
            "1993\n",
            "None\n",
            "None\n",
            "1913\n",
            "None\n",
            "1906\n",
            "1849\n",
            "1916\n",
            "1895\n",
            "2004\n",
            "None\n",
            "1884\n",
            "None\n",
            "<!DOCTYPE html PUBLIC \"-//W3C//DTD HTML 4.01 Transitional//EN\">\n",
            "<html>\n",
            "<head><meta content=\"text/html; charset=utf-8\" http-equiv=\"content-type\"/><meta content=\"initial-scale=1\" name=\"viewport\"/><title>https://www.google.de/search?q=In%20which%20year%20was%20the%20book%20%22Tarzan%20of%20the%20Apes%22%20written%20by%20Burroughs,%20Edgar%20Rice%20first%20published?</title></head>\n",
            "<body onload=\"e=document.getElementById('captcha');if(e){e.focus();} if(solveSimpleChallenge) {solveSimpleChallenge(,);}\" style=\"font-family: arial, sans-serif; background-color: #fff; color: #000; padding:20px; font-size:18px; overscroll-behavior:contain;\">\n",
            "<div style=\"max-width:400px;\">\n",
            "<hr noshade=\"\" size=\"1\" style=\"color:#ccc; background-color:#ccc;\"/><br/>\n",
            "<form action=\"index\" id=\"captcha-form\" method=\"post\">\n",
            "<noscript>\n",
            "<div style=\"font-size:13px;\">\n",
            "  In order to continue, please enable javascript on your web browser.\n",
            "</div>\n",
            "</noscript>\n",
            "<script async=\"\" defer=\"\" src=\"https://www.google.com/recaptcha/api.js\"></script>\n",
            "<script>var submitCallback = function(response) {document.getElementById('captcha-form').submit();};</script>\n",
            "<div class=\"g-recaptcha\" data-callback=\"submitCallback\" data-s=\"czlKr6kQMcXtToyECi72W3pV1PReR77e2-qM2gLCMLIp44Ar1ofG8Gasms2cXrdy8ZIb-PCSh94y5yx98nxERXrsbCklJ1EdAjzvVqxSXBghFyaZPo6kUyvTkRFyysvmkkqr70FDi7FpFKtqsDfkf-_QvfaDkGRZeU0dJF9yE2Si2d7TE487Rm0E_pVFDg5LX-O2bg7uIDyBCiGrNSQcKHi1xuUhGDGXzpWnFvSxt8cIymlGKwwZKNdGbBGNbizqDRS0QHmGGq6l7QOKxZcPLav0fzCvLoI\" data-sitekey=\"6LfwuyUTAAAAAOAmoS0fdqijC2PbbdH4kjq62Y1b\" id=\"recaptcha\"></div>\n",
            "<input name=\"q\" type=\"hidden\" value=\"EgQiQqSNGIexw7gGIjCp4aHHf76S35ekMyB_gIiKx_VgoLfQHgtxe2Rhf-oaM_S4IONO2lXMijSl17nWWE4yAXJaAUM\"/><input name=\"continue\" type=\"hidden\" value=\"https://www.google.de/search?q=In%20which%20year%20was%20the%20book%20%22Tarzan%20of%20the%20Apes%22%20written%20by%20Burroughs,%20Edgar%20Rice%20first%20published?\"/>\n",
            "</form>\n",
            "<hr noshade=\"\" size=\"1\" style=\"color:#ccc; background-color:#ccc;\"/>\n",
            "<div style=\"font-size:13px;\">\n",
            "<b>About this page</b><br/><br/>\n",
            "\n",
            "Our systems have detected unusual traffic from your computer network.  This page checks to see if it's really you sending the requests, and not a robot.  <a href=\"#\" onclick=\"document.getElementById('infoDiv').style.display='block';\">Why did this happen?</a><br/><br/>\n",
            "<div id=\"infoDiv\" style=\"display:none; background-color:#eee; padding:10px; margin:0 0 15px 0; line-height:1.4em;\">\n",
            "This page appears when Google automatically detects requests coming from your computer network which appear to be in violation of the <a href=\"//www.google.com/policies/terms/\">Terms of Service</a>. The block will expire shortly after those requests stop.  In the meantime, solving the above CAPTCHA will let you continue to use our services.<br/><br/>This traffic may have been sent by malicious software, a browser plug-in, or a script that sends automated requests.  If you share your network connection, ask your administrator for help — a different computer using the same IP address may be responsible.  <a href=\"//support.google.com/websearch/answer/86640\">Learn more</a><br/><br/>Sometimes you may be asked to solve the CAPTCHA if you are using advanced terms that robots are known to use, or sending requests very quickly.\n",
            "</div>\n",
            "\n",
            "IP address: 34.66.164.141<br/>Time: 2024-10-17T09:27:35Z<br/>URL: https://www.google.de/search?q=In%20which%20year%20was%20the%20book%20%22Tarzan%20of%20the%20Apes%22%20written%20by%20Burroughs,%20Edgar%20Rice%20first%20published?<br/>\n",
            "</div>\n",
            "</div>\n",
            "</body>\n",
            "</html>\n",
            "\n"
          ]
        },
        {
          "output_type": "error",
          "ename": "Exception",
          "evalue": "You have been temporarily blocked by google",
          "traceback": [
            "\u001b[0;31m---------------------------------------------------------------------------\u001b[0m",
            "\u001b[0;31mException\u001b[0m                                 Traceback (most recent call last)",
            "\u001b[0;32m<ipython-input-19-6303e11ae95d>\u001b[0m in \u001b[0;36m<cell line: 2>\u001b[0;34m()\u001b[0m\n\u001b[1;32m      1\u001b[0m \u001b[0mi\u001b[0m \u001b[0;34m=\u001b[0m \u001b[0;36m100\u001b[0m\u001b[0;34m\u001b[0m\u001b[0;34m\u001b[0m\u001b[0m\n\u001b[1;32m      2\u001b[0m \u001b[0;32mfor\u001b[0m \u001b[0mauthors\u001b[0m\u001b[0;34m,\u001b[0m \u001b[0mtitle\u001b[0m \u001b[0;32min\u001b[0m \u001b[0mzip\u001b[0m\u001b[0;34m(\u001b[0m\u001b[0mgutenberg_catalog\u001b[0m\u001b[0;34m.\u001b[0m\u001b[0mauthors\u001b[0m\u001b[0;34m,\u001b[0m \u001b[0mgutenberg_catalog\u001b[0m\u001b[0;34m.\u001b[0m\u001b[0mtitle\u001b[0m\u001b[0;34m)\u001b[0m\u001b[0;34m:\u001b[0m\u001b[0;34m\u001b[0m\u001b[0;34m\u001b[0m\u001b[0m\n\u001b[0;32m----> 3\u001b[0;31m     \u001b[0mprint\u001b[0m\u001b[0;34m(\u001b[0m\u001b[0mfetch_year_from_google_search\u001b[0m\u001b[0;34m(\u001b[0m\u001b[0mbuild_query\u001b[0m\u001b[0;34m(\u001b[0m\u001b[0mtitle\u001b[0m\u001b[0;34m,\u001b[0m \u001b[0mauthors\u001b[0m\u001b[0;34m)\u001b[0m\u001b[0;34m)\u001b[0m\u001b[0;34m)\u001b[0m\u001b[0;34m\u001b[0m\u001b[0;34m\u001b[0m\u001b[0m\n\u001b[0m\u001b[1;32m      4\u001b[0m     \u001b[0mi\u001b[0m\u001b[0;34m+=\u001b[0m\u001b[0;36m1\u001b[0m\u001b[0;34m\u001b[0m\u001b[0;34m\u001b[0m\u001b[0m\n\u001b[1;32m      5\u001b[0m \u001b[0;31m#print(ref_years)\u001b[0m\u001b[0;34m\u001b[0m\u001b[0;34m\u001b[0m\u001b[0m\n",
            "\u001b[0;32m<ipython-input-16-62f57724bcf3>\u001b[0m in \u001b[0;36mfetch_year_from_google_search\u001b[0;34m(query)\u001b[0m\n\u001b[1;32m     10\u001b[0m   \u001b[0;32mif\u001b[0m \u001b[0mstr\u001b[0m\u001b[0;34m(\u001b[0m\u001b[0mextracts\u001b[0m\u001b[0;34m[\u001b[0m\u001b[0;36m1\u001b[0m\u001b[0;34m]\u001b[0m\u001b[0;34m)\u001b[0m \u001b[0;34m==\u001b[0m \u001b[0;34m\"<b>About this page</b>\"\u001b[0m\u001b[0;34m:\u001b[0m\u001b[0;34m\u001b[0m\u001b[0;34m\u001b[0m\u001b[0m\n\u001b[1;32m     11\u001b[0m     \u001b[0mprint\u001b[0m\u001b[0;34m(\u001b[0m\u001b[0msoup\u001b[0m\u001b[0;34m)\u001b[0m\u001b[0;34m\u001b[0m\u001b[0;34m\u001b[0m\u001b[0m\n\u001b[0;32m---> 12\u001b[0;31m     \u001b[0;32mraise\u001b[0m \u001b[0mException\u001b[0m\u001b[0;34m(\u001b[0m\u001b[0;34m\"You have been temporarily blocked by google\"\u001b[0m\u001b[0;34m)\u001b[0m\u001b[0;34m\u001b[0m\u001b[0;34m\u001b[0m\u001b[0m\n\u001b[0m\u001b[1;32m     13\u001b[0m   \u001b[0mmin_year\u001b[0m \u001b[0;34m=\u001b[0m \u001b[0;32mNone\u001b[0m\u001b[0;34m\u001b[0m\u001b[0;34m\u001b[0m\u001b[0m\n\u001b[1;32m     14\u001b[0m   \u001b[0;32mfor\u001b[0m \u001b[0mtag\u001b[0m \u001b[0;32min\u001b[0m \u001b[0mextracts\u001b[0m\u001b[0;34m:\u001b[0m\u001b[0;34m\u001b[0m\u001b[0;34m\u001b[0m\u001b[0m\n",
            "\u001b[0;31mException\u001b[0m: You have been temporarily blocked by google"
          ]
        }
      ],
      "source": [
        "i = 100\n",
        "for authors, title in zip(gutenberg_catalog.authors, gutenberg_catalog.title):\n",
        "    print(fetch_year_from_google_search(build_query(title, authors)))\n",
        "    i+=1\n",
        "#print(ref_years)"
      ]
    },
    {
      "cell_type": "markdown",
      "metadata": {
        "id": "u0p1-bGyMJ3H"
      },
      "source": [
        "\n",
        "\n",
        "---\n",
        "\n",
        "\n",
        "\n",
        "**Library of Congress API**\n",
        "\n",
        "doc: https://www.loc.gov/apis/json-and-yaml/requests/endpoints/\n",
        "\n",
        "extended catalog maybe: https://www.loc.gov/apis/json-and-yaml/requests/endpoints/"
      ]
    },
    {
      "cell_type": "code",
      "execution_count": null,
      "metadata": {
        "id": "n2iJp3iKok_R"
      },
      "outputs": [],
      "source": [
        "# urlopen throws error 403\n",
        "import requests"
      ]
    },
    {
      "cell_type": "code",
      "execution_count": null,
      "metadata": {
        "id": "H6ixg9pKMzMJ"
      },
      "outputs": [],
      "source": [
        "def build_query(author, title, author_birth=0, author_death=0):\n",
        "\n",
        "  query = f'https://www.loc.gov/books/?fa=language:english&q={title} {author}&fo=json'\n",
        "\n",
        "  # remove whitestrings and quotation marks from urls\n",
        "  query = query.replace(' ','%20')\n",
        "  query = query.replace('\"','%22')\n",
        "  #print(query)\n",
        "\n",
        "  # send a request and get a JSON response\n",
        "  #resp = urlopen(query)\n",
        "  resp = requests.get(query)\n",
        "\n",
        "  # parse JSON into Python as a dictionary\n",
        "  json = resp.json()\n",
        "  results = json[\"content\"][\"results\"]\n",
        "\n",
        "  years = []\n",
        "  for item in results:\n",
        "    if \"date\" in item and item[\"date\"]> str(float(author_birth)+10) and item[\"date\"] <= str(author_death):\n",
        "      years.append(item[\"date\"])\n",
        "  print(years)\n"
      ]
    },
    {
      "cell_type": "code",
      "execution_count": null,
      "metadata": {
        "colab": {
          "base_uri": "https://localhost:8080/"
        },
        "id": "EVzB7S1Kjkxk",
        "outputId": "9419f52f-a946-4a2b-91b1-2ad3bcd163ce"
      },
      "outputs": [
        {
          "name": "stdout",
          "output_type": "stream",
          "text": [
            "['1776-01-01', '1776-01-01', '1823', '1776', '1826']\n",
            "1776\n",
            "[]\n",
            "1611\n",
            "['1866', '1893', '1895', '1885', '1895', '1893', '1885']\n",
            "1865\n",
            "['1842', '1836']\n",
            "1830\n",
            "['1900', '1911', '1917', '1897', '1886', '1882', '1911', '1918', '1869', '1877', '1908', '1880', '1904']\n",
            "1904\n",
            "['1918', '1922', '1918', '1922', '1905', '1896', '1920', '1899', '1902', '1902', '1924', '1912']\n",
            "1912\n",
            "['1901', '1906', '1910', '1889', '1903', '1907', '1900']\n",
            "1884\n",
            "[]\n",
            "1819\n",
            "['1818', '1849']\n",
            "1818\n",
            "['1923', '1944', '1908', '1891-01-01', '1907-01-01', '1908-01-01', '1911', '1905', '1893', '1918', '1918']\n",
            "1912\n"
          ]
        }
      ],
      "source": [
        "for i in range(len(ids)):\n",
        "  build_query(gutenberg_catalog.authors[ids[i]],\n",
        "              gutenberg_catalog.title[ids[i]],\n",
        "              gutenberg_catalog.first_author_birth_year[ids[i]],\n",
        "              gutenberg_catalog.first_author_death_year[ids[i]])\n",
        "  print(ref_years[i])"
      ]
    },
    {
      "cell_type": "markdown",
      "metadata": {
        "id": "Ai_Cr_vkilKa"
      },
      "source": [
        "\n",
        "\n",
        "---\n",
        "\n",
        "\n",
        "\n",
        "**Open Library API**\n",
        "\n",
        "API docs: https://openlibrary.org/dev/docs/api/search\n",
        "\n"
      ]
    },
    {
      "cell_type": "code",
      "execution_count": null,
      "metadata": {
        "id": "7auRKfvNipGj"
      },
      "outputs": [],
      "source": [
        "import requests\n",
        "from statistics import mode\n",
        "\n",
        "def get_open_library_year(title, author, birth=np.nan, death=np.nan):\n",
        "    first_publish_year = None\n",
        "    url = f\"https://openlibrary.org/search.json?q={title}+{author}\"\n",
        "    url = url.replace(' ','+')\n",
        "    response = requests.get(url)\n",
        "    if response.status_code == 200:\n",
        "        data = response.json()\n",
        "        docs = data['docs']\n",
        "        years = []\n",
        "        for doc in docs:\n",
        "          year = doc.get('first_publish_year')\n",
        "          if year != None and (pd.isna(birth) or float(birth) < year and (pd.isna(death) or year <= float(death))):\n",
        "            years.append(year)\n",
        "        return mode(years) if len(years)>0 else np.nan\n",
        "    else:\n",
        "        return np.nan\n"
      ]
    },
    {
      "cell_type": "code",
      "execution_count": null,
      "metadata": {
        "colab": {
          "base_uri": "https://localhost:8080/"
        },
        "id": "8i3pn0iKj46g",
        "outputId": "fbf7117d-baf0-4696-cb24-d370752b0201"
      },
      "outputs": [
        {
          "name": "stdout",
          "output_type": "stream",
          "text": [
            "1776\n",
            "1776\n",
            "1537\n",
            "1611\n",
            "1889\n",
            "1865\n",
            "1830\n",
            "1830\n",
            "1904\n",
            "1904\n",
            "1917\n",
            "1912\n",
            "1876\n",
            "1884\n",
            "1800\n",
            "1819\n",
            "1818\n",
            "1818\n",
            "1912\n",
            "1912\n"
          ]
        }
      ],
      "source": [
        "for i in range(len(ids)):\n",
        "  print(get_open_library_year(gutenberg_catalog.title[ids[i]],\n",
        "              gutenberg_catalog.authors[ids[i]],\n",
        "              gutenberg_catalog.first_author_birth_year[ids[i]],\n",
        "              gutenberg_catalog.first_author_death_year[ids[i]],\n",
        "              ))\n",
        "  print(ref_years[i])"
      ]
    },
    {
      "cell_type": "markdown",
      "metadata": {
        "id": "VyJs9y79ZolI"
      },
      "source": [
        "5/10"
      ]
    },
    {
      "cell_type": "markdown",
      "metadata": {
        "id": "aP4pvakLnRLR"
      },
      "source": [
        "**Wikipedia API**"
      ]
    },
    {
      "cell_type": "code",
      "execution_count": null,
      "metadata": {
        "colab": {
          "base_uri": "https://localhost:8080/"
        },
        "id": "lf8U0kSfnTMZ",
        "outputId": "21f24a90-1e06-4e0d-ea7d-5c308d96416a"
      },
      "outputs": [
        {
          "name": "stdout",
          "output_type": "stream",
          "text": [
            "Collecting wikipedia-api\n",
            "  Downloading Wikipedia_API-0.6.0-py3-none-any.whl (14 kB)\n",
            "Requirement already satisfied: requests in /usr/local/lib/python3.10/dist-packages (from wikipedia-api) (2.31.0)\n",
            "Requirement already satisfied: charset-normalizer<4,>=2 in /usr/local/lib/python3.10/dist-packages (from requests->wikipedia-api) (3.3.2)\n",
            "Requirement already satisfied: idna<4,>=2.5 in /usr/local/lib/python3.10/dist-packages (from requests->wikipedia-api) (3.7)\n",
            "Requirement already satisfied: urllib3<3,>=1.21.1 in /usr/local/lib/python3.10/dist-packages (from requests->wikipedia-api) (2.0.7)\n",
            "Requirement already satisfied: certifi>=2017.4.17 in /usr/local/lib/python3.10/dist-packages (from requests->wikipedia-api) (2024.2.2)\n",
            "Installing collected packages: wikipedia-api\n",
            "Successfully installed wikipedia-api-0.6.0\n"
          ]
        }
      ],
      "source": [
        "!pip install wikipedia-api"
      ]
    },
    {
      "cell_type": "code",
      "execution_count": null,
      "metadata": {
        "id": "4UDvSw4znXd9"
      },
      "outputs": [],
      "source": [
        "import wikipediaapi\n",
        "from statistics import mode\n",
        "import re\n",
        "import pandas as pd\n",
        "\n",
        "# Define a custom User-Agent\n",
        "USER_AGENT = \"BookYearFinderBot/1.0\"\n",
        "\n",
        "def get_wikipedia_page(title, user_agent):\n",
        "    wiki_wiki = wikipediaapi.Wikipedia(USER_AGENT, 'en')\n",
        "    page = wiki_wiki.page(title)\n",
        "    return page\n",
        "\n",
        "def extract_publication_year(page):\n",
        "    if not page.exists():\n",
        "        return None\n",
        "    first_section = page.summary.split(\"\\n\")[0]\n",
        "    content = page.text\n",
        "\n",
        "    ## first check if any Year is mentioned in the first section of a wikipedia article\n",
        "    pattern = r'[^\\d]*(\\d{4})'\n",
        "    matches = re.findall(pattern, first_section, re.IGNORECASE)\n",
        "    #print(f\"matches: {matches}\")\n",
        "    if matches:\n",
        "      #print(f\"check: {matches}\")\n",
        "      # mode returns the most frequently occuring element in a list\n",
        "      return mode(matches)\n",
        "\n",
        "    # if not choose the Year that has been mentioned most frequently\n",
        "    pattern = r'(published|created|wrote|written)[^\\d]*(\\d{4})'\n",
        "    years = []\n",
        "    lines = content.split(\"\\n\")\n",
        "    for line in lines:\n",
        "      matches = re.findall(pattern, line, re.IGNORECASE)\n",
        "      if matches:\n",
        "        #print(f\"{matches} \\n {line}\")\n",
        "        years.extend([i[1] for i in matches])\n",
        "    # print(f\"list: {years}\")\n",
        "    # mode returns the most frequently occuring element in a list\n",
        "    return mode(years) if len(years)>0 else None\n",
        "\n",
        "def wiki_publication_year(book_title, author_name, author_birth=np.nan, author_death=np.nan):\n",
        "    # Construct a search query\n",
        "    query = book_title\n",
        "    page = get_wikipedia_page(query, USER_AGENT)\n",
        "    try:\n",
        "      page.exists()\n",
        "    except:\n",
        "      return np.nan\n",
        "\n",
        "    if page.exists():\n",
        "      publication_year = extract_publication_year(page)\n",
        "      if publication_year is not None:\n",
        "        if pd.isna(author_birth) or str(author_birth) < publication_year and (pd.isna(author_death) or publication_year <= str(author_death)):\n",
        "          return publication_year\n",
        "    return np.nan\n"
      ]
    },
    {
      "cell_type": "code",
      "execution_count": null,
      "metadata": {
        "colab": {
          "base_uri": "https://localhost:8080/"
        },
        "id": "PKzwAq9SrHcf",
        "outputId": "706f1a2e-b951-40e5-cc0f-ab77adc829f1"
      },
      "outputs": [
        {
          "name": "stdout",
          "output_type": "stream",
          "text": [
            "None\n",
            "1776\n",
            "1776\n"
          ]
        }
      ],
      "source": [
        "#for title in titles:\n",
        "#  print(title)\n",
        "print(wiki_publication_year(gutenberg_catalog.title[ids[0]],\n",
        "                            gutenberg_catalog.authors[ids[0]]\n",
        "              ))\n",
        "print(ref_years[0])"
      ]
    },
    {
      "cell_type": "code",
      "execution_count": null,
      "metadata": {
        "colab": {
          "base_uri": "https://localhost:8080/"
        },
        "id": "AfGa-ltrpZLK",
        "outputId": "7c3fa41e-e239-4aa0-dff8-3bdedee56bca"
      },
      "outputs": [
        {
          "name": "stdout",
          "output_type": "stream",
          "text": [
            "1: 1776, Title: The Declaration of Independence of the United States of America\n",
            "2: None, Title: The United States Bill of Rights: The Ten Original Amendments to the Constitution of the United States\n",
            "3: 1961, Title: John F. Kennedy's Inaugural Address\n",
            "4: None, Title: Lincoln's Gettysburg Address: Given November 19, 1863 on the battlefield near Gettysburg, Pennsylvania, USA\n",
            "5: 1789, Title: The United States Constitution\n",
            "6: None, Title: Give Me Liberty or Give Me Death\n",
            "7: 1646, Title: The Mayflower Compact\n",
            "8: 1865, Title: Abraham Lincoln's Second Inaugural Address\n",
            "9: None, Title: Abraham Lincoln's First Inaugural Address\n",
            "10: None, Title: The King James Version of the Bible\n"
          ]
        }
      ],
      "source": [
        "i = 0\n",
        "for title, author, birth, death in zip(gutenberg_catalog.title[:10], gutenberg_catalog.authors[:10], gutenberg_catalog.first_author_birth_year[:10], gutenberg_catalog.first_author_death_year[:10]):\n",
        "  i+=1\n",
        "  print(f\"{i}: {wiki_publication_year(title, author, birth, death)}, Title: {title}\")\n",
        "\n",
        "  if i == 10000:\n",
        "        break\n",
        "\n",
        "\n",
        "#1: 1776\n",
        "#2: None\n",
        "#3: 1961\n",
        "#4: None\n",
        "#5: 1789\n",
        "#6: None\n",
        "#7: 1646\n",
        "#8: 1865\n",
        "#9: None\n",
        "#10: None"
      ]
    },
    {
      "cell_type": "markdown",
      "metadata": {
        "id": "g7jXaTgvIW-D"
      },
      "source": [
        "\n",
        "\n",
        "---\n",
        "\n",
        "\n",
        "\n",
        "**Get Year from Book Title**"
      ]
    },
    {
      "cell_type": "code",
      "execution_count": null,
      "metadata": {
        "id": "Pq8wIxzkIWEo"
      },
      "outputs": [],
      "source": [
        "def year_from_title(title, author_birth, author_death, check = True):\n",
        "    pattern = r'[^\\d]*(\\d{4})'\n",
        "    matches = re.search(pattern, str(title), re.IGNORECASE)\n",
        "    if matches:\n",
        "      year = matches.group(1)\n",
        "      if not check or pd.isna(author_birth) or str(author_birth) < year and str(author_death) >= year:\n",
        "        return year\n",
        "    return np.NaN\n",
        "\n",
        "\n"
      ]
    },
    {
      "cell_type": "markdown",
      "metadata": {
        "id": "-FoKSDjjVnM9"
      },
      "source": [
        "**Append df by years columns**"
      ]
    },
    {
      "cell_type": "code",
      "execution_count": null,
      "metadata": {
        "id": "7R6lQYVios_Q"
      },
      "outputs": [],
      "source": [
        "def find_last_entry(df, col_name):\n",
        "  last_entry = -1\n",
        "  for i in range(len(df)):\n",
        "    if not pd.isna(df[col_name][i]):\n",
        "      last_entry = i\n",
        "  return last_entry"
      ]
    },
    {
      "cell_type": "code",
      "execution_count": null,
      "metadata": {
        "colab": {
          "base_uri": "https://localhost:8080/"
        },
        "id": "c67Ggm3t3WwR",
        "outputId": "b57f1c3b-299f-4a80-e3cd-b633ae97deb4"
      },
      "outputs": [
        {
          "output_type": "stream",
          "name": "stdout",
          "text": [
            "73562\n",
            "73570\n",
            "958\n",
            "73566\n",
            "73569\n"
          ]
        }
      ],
      "source": [
        "print(find_last_entry(gutenberg_catalog, \"year_wikipedia\"))\n",
        "print(len(gutenberg_catalog))\n",
        "print(find_last_entry(gutenberg_catalog, \"year_google_html\"))\n",
        "print(find_last_entry(gutenberg_catalog, \"year_title\"))\n",
        "print(find_last_entry(gutenberg_catalog, \"year_open_library\"))"
      ]
    },
    {
      "cell_type": "code",
      "execution_count": null,
      "metadata": {
        "colab": {
          "base_uri": "https://localhost:8080/"
        },
        "id": "a6thMHzko3oV",
        "outputId": "adf0445b-8f02-459c-c257-7c784dd5a919"
      },
      "outputs": [
        {
          "name": "stdout",
          "output_type": "stream",
          "text": [
            "id                                                                     35366\n",
            "title                      Tom Clark and His Wife: Their Double Dreams, A...\n",
            "authors                                            Randolph, Paschal Beverly\n",
            "first_author_birth_year                                                 1825\n",
            "first_author_death_year                                                 1874\n",
            "translators                                                              NaN\n",
            "type                                                                    Text\n",
            "subjects                                             Rosicrucians -- Fiction\n",
            "languages                                                                 en\n",
            "formats                    text/html, text/html; charset=iso-8859-1, appl...\n",
            "downloads                                                                 96\n",
            "bookshelves                                                              NaN\n",
            "copyright                                                              False\n",
            "year_google_api                                                          NaN\n",
            "year_google_html                                                         NaN\n",
            "year_loc                                                                 NaN\n",
            "year_open_library                                                        NaN\n",
            "year_wikipedia                                                          None\n",
            "year_title                                                               NaN\n",
            "Name: 35293, dtype: object\n"
          ]
        }
      ],
      "source": [
        "print(gutenberg_catalog.loc[35293])"
      ]
    },
    {
      "cell_type": "code",
      "execution_count": null,
      "metadata": {
        "colab": {
          "base_uri": "https://localhost:8080/"
        },
        "id": "7MkgOONUnVya",
        "outputId": "6a1f9c40-5b26-4eb7-884b-c58f2677a28c"
      },
      "outputs": [
        {
          "name": "stdout",
          "output_type": "stream",
          "text": [
            "Page: Mad: A Story of Dust and Ashes (id: ??, ns: 0)\n"
          ]
        }
      ],
      "source": [
        "# index = 35294 giving trouble"
      ]
    },
    {
      "cell_type": "code",
      "execution_count": null,
      "metadata": {
        "id": "nNO4Tr4ubbt5"
      },
      "outputs": [],
      "source": [
        "from datetime import datetime\n",
        "\n",
        "CHUNK_SIZE = 100\n",
        "OFFSET = find_last_entry(gutenberg_catalog, \"year_wikipedia\") + 1 # In case fetching was stopped halfway through\n",
        "print(f\"starting at: {OFFSET}\")\n",
        "steps = (len(gutenberg_catalog)-OFFSET) // CHUNK_SIZE\n",
        "\n",
        "for i in range(steps):\n",
        "  gutenberg_catalog.loc[CHUNK_SIZE * i + OFFSET : CHUNK_SIZE * (i+1) + OFFSET, \"year_wikipedia\"] = gutenberg_catalog[CHUNK_SIZE * i + OFFSET : CHUNK_SIZE * (i+1) + OFFSET ].apply(lambda row: wiki_publication_year(row['title'], row[\"authors\"], row[\"first_author_birth_year\"], row[\"first_author_death_year\"]), axis=1)\n",
        "  print(f\"{datetime.now()}: entries {i*CHUNK_SIZE + OFFSET}:{(i+1)*CHUNK_SIZE +  OFFSET} checked\")\n",
        "  gutenberg_catalog.to_csv(target_loc, index=False)\n",
        "gutenberg_catalog.loc[CHUNK_SIZE * steps + OFFSET : , \"year_wikipedia\"] = gutenberg_catalog[CHUNK_SIZE * steps + OFFSET: len(gutenberg_catalog)].apply(lambda row: wiki_publication_year(row['title'], row[\"authors\"], row[\"first_author_birth_year\"], row[\"first_author_death_year\"]), axis=1)\n"
      ]
    },
    {
      "cell_type": "code",
      "execution_count": null,
      "metadata": {
        "colab": {
          "base_uri": "https://localhost:8080/"
        },
        "id": "LyISoS4mo8hH",
        "outputId": "72093ffc-5ec5-4df8-8a5e-09351accb8e6"
      },
      "outputs": [
        {
          "data": {
            "text/plain": [
              "469"
            ]
          },
          "execution_count": 90,
          "metadata": {},
          "output_type": "execute_result"
        }
      ],
      "source": [
        "find_last_entry(gutenberg_catalog, \"year_google_html\")"
      ]
    },
    {
      "cell_type": "code",
      "execution_count": null,
      "metadata": {
        "colab": {
          "background_save": true,
          "base_uri": "https://localhost:8080/"
        },
        "id": "MzztQhEmpgu7",
        "outputId": "6eeb4bc1-e9de-444a-9bc7-b69967835282"
      },
      "outputs": [
        {
          "name": "stdout",
          "output_type": "stream",
          "text": [
            "Start: 786\n",
            "saved until book 806\n",
            "saved until book 826\n",
            "saved until book 846\n",
            "delay has been set to: 1800.0\n",
            "delay has been set to: 2700.0\n",
            "saved until book 866\n",
            "saved until book 886\n",
            "saved until book 906\n",
            "delay has been set to: 4050.0\n",
            "delay has been set to: 6075.0\n",
            "saved until book 926\n",
            "saved until book 946\n",
            "delay has been set to: 9112.5\n"
          ]
        }
      ],
      "source": [
        "# Script to query google as fast as possible without data loss while being blocked every now and then\n",
        "import time\n",
        "\n",
        "start = find_last_entry(gutenberg_catalog, \"year_google_html\")\n",
        "print(f\"Start: {start}\")\n",
        "missing = len(gutenberg_catalog) - start\n",
        "\n",
        "delay = 1200\n",
        "save_counter = 0\n",
        "\n",
        "for i in range(missing):\n",
        "  while True:\n",
        "    try:\n",
        "      gutenberg_catalog.loc[start+i+1, \"year_google_html\"] = fetch_year_from_google_search(build_query(gutenberg_catalog.title[start+i+1], gutenberg_catalog.authors[start+i+1]))\n",
        "      save_counter +=1\n",
        "      if save_counter == 20:\n",
        "          print(f\"saved until book {start+i+1}\")\n",
        "          gutenberg_catalog.to_csv(target_loc, index=False)\n",
        "          save_counter = 0\n",
        "      break\n",
        "    except:\n",
        "      gutenberg_catalog.to_csv(target_loc, index=False)\n",
        "      delay *= 1.5\n",
        "      print(f\"delay has been set to: {delay}\")\n",
        "      time.sleep(delay)\n",
        "\n"
      ]
    },
    {
      "cell_type": "code",
      "execution_count": null,
      "metadata": {
        "id": "lorkoIhbxWHR"
      },
      "outputs": [],
      "source": [
        "# script to get year numbers from LoC API:\n",
        "\n",
        "CHUNK_SIZE = 1000\n",
        "OFFSET =  find_last_entry(gutenberg_catalog, \"year_loc\")+1 # In case fetching was stopped halfway through\n",
        "steps = (len(gutenberg_catalog)-OFFSET) // CHUNK_SIZE\n",
        "\n",
        "for i in range(steps):\n",
        "  gutenberg_catalog.loc[CHUNK_SIZE * i + OFFSET : CHUNK_SIZE * (i+1) + OFFSET, \"year_loc\"] = gutenberg_catalog[CHUNK_SIZE * i + OFFSET : CHUNK_SIZE * (i+1) + OFFSET ].apply(lambda row: (row['title'], row[\"authors\"], row[\"first_author_birth_year\"], row[\"first_author_death_year\"]), axis=1)\n",
        "  print(f\"entries {i*CHUNK_SIZE + OFFSET}:{(i+1)*CHUNK_SIZE +  OFFSET} checked\")\n",
        "  gutenberg_catalog.to_csv(target_loc, index=False)\n",
        "gutenberg_catalog.loc[CHUNK_SIZE * steps + OFFSET: len(gutenberg_catalog), \"year_wikipedia\"] = gutenberg_catalog[CHUNK_SIZE * steps + OFFSET: len(gutenberg_catalog)].apply(lambda row: wiki_publication_year(row['title'], row[\"authors\"], row[\"first_author_birth_year\"], row[\"first_author_death_year\"]), axis=1)\n"
      ]
    },
    {
      "cell_type": "code",
      "execution_count": null,
      "metadata": {
        "id": "uBcstnk2aJvq"
      },
      "outputs": [],
      "source": [
        "  gutenberg_catalog[\"year_open_library\"] = np.nan"
      ]
    },
    {
      "cell_type": "code",
      "execution_count": null,
      "metadata": {
        "colab": {
          "base_uri": "https://localhost:8080/"
        },
        "id": "ix08f4Reyf4R",
        "outputId": "ac38350b-4834-41eb-ad22-c355b76d7538"
      },
      "outputs": [
        {
          "output_type": "stream",
          "name": "stdout",
          "text": [
            "starting at: 73480\n"
          ]
        }
      ],
      "source": [
        "\n",
        "\n",
        "# script to fetch years from open library API\n",
        "\n",
        "CHUNK_SIZE = 100\n",
        "OFFSET = find_last_entry(gutenberg_catalog, \"year_open_library\")+1# In case fetching was stopped halfway through\n",
        "print(f\"starting at: {OFFSET}\")\n",
        "steps = (len(gutenberg_catalog)-OFFSET) // CHUNK_SIZE\n",
        "\n",
        "for i in range(steps):\n",
        "  gutenberg_catalog.loc[CHUNK_SIZE * i + OFFSET : CHUNK_SIZE * (i+1) + OFFSET, \"year_open_library\"] = gutenberg_catalog[CHUNK_SIZE * i + OFFSET : CHUNK_SIZE * (i+1) + OFFSET ].apply(lambda row: get_open_library_year(row['title'], row[\"authors\"], row[\"first_author_birth_year\"], row[\"first_author_death_year\"]), axis=1)\n",
        "  print(f\"{datetime.now()}: entries {i*CHUNK_SIZE + OFFSET}:{(i+1)*CHUNK_SIZE +  OFFSET} checked\")\n",
        "  gutenberg_catalog.to_csv(target_loc, index=False)\n",
        "gutenberg_catalog.loc[CHUNK_SIZE * steps + OFFSET: len(gutenberg_catalog), \"year_open_library\"] = gutenberg_catalog[CHUNK_SIZE * steps + OFFSET: len(gutenberg_catalog)].apply(lambda row: get_open_library_year(row['title'], row[\"authors\"], row[\"first_author_birth_year\"], row[\"first_author_death_year\"]), axis=1)\n",
        "gutenberg_catalog.to_csv(target_loc, index=False)\n"
      ]
    },
    {
      "cell_type": "code",
      "execution_count": null,
      "metadata": {
        "id": "YjFlqbbwo5Qy"
      },
      "outputs": [],
      "source": [
        "  gutenberg_catalog.to_csv(target_loc, index=False)"
      ]
    }
  ],
  "metadata": {
    "colab": {
      "provenance": []
    },
    "kernelspec": {
      "display_name": "Python 3",
      "name": "python3"
    },
    "language_info": {
      "name": "python"
    }
  },
  "nbformat": 4,
  "nbformat_minor": 0
}